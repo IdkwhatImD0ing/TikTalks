{
 "cells": [
  {
   "cell_type": "code",
   "execution_count": 1,
   "metadata": {},
   "outputs": [],
   "source": [
    "import openvino_genai as ov_genai\n"
   ]
  },
  {
   "cell_type": "code",
   "execution_count": 2,
   "metadata": {},
   "outputs": [],
   "source": [
    "def generate_text(prompt, max_new_tokens, model_dir=\"./Llama-3.2-1B_instruct_openvino\"):\n",
    "    \n",
    "    pipe = ov_genai.LLMPipeline(model_dir, \"CPU\")\n",
    "    return pipe.generate(prompt, max_new_tokens=max_new_tokens)\n"
   ]
  },
  {
   "cell_type": "code",
   "execution_count": 3,
   "metadata": {},
   "outputs": [
    {
     "data": {
      "text/plain": [
       "'\"Imagine a world where humanity has finally reached the stars, and we\\'re not just talking about any old spacecraft, but the most advanced, cutting-edge, and sustainable vessels that are changing the game. Spaceships are not just a luxury, they\\'re a necessity. They\\'re the key to unlocking new frontiers, new discoveries, and new possibilities for humanity. But did you know that the first spaceship was actually a hot air balloon? Yes, you heard that right! In 1783, French inventor Montgolfier created the first successful hot air balloon, which carried a group of 20 people to the skies. It was a groundbreaking achievement that paved the way for the development of modern space travel. Fast forward to today, and we have reusable rockets, advanced propulsion systems, and even private space companies like SpaceX and Blue Origin pushing the boundaries of what\\'s possible. But what\\'s even more exciting is that we\\'re not just talking about the technology, we\\'re talking about the people, the communities, and the cultures that are being shaped by space exploration. From the astronauts who are pushing the limits of human endurance to the scientists who are unlocking the secrets of the universe, space travel is not just a dream, it\\'s a reality that\\'s changing our world. So let\\'s get ready to blast off into the unknown, and explore the infinite possibilities that await us in the cosmos!\"'"
      ]
     },
     "execution_count": 3,
     "metadata": {},
     "output_type": "execute_result"
    }
   ],
   "source": [
    "prompt = \"\"\"\\n\\n\n",
    "Your task is to create a 30 second engaging and educational tiktok script based on the following sentence:\n",
    "\n",
    "{input_sentence}\n",
    "\n",
    "Expand on this sentence to create an interesting and educational script that most people might not know about.\n",
    "The tiktok should incorporate an engaging story or example related to the sentence.\n",
    "Do not include any emojis or hashtags in the script.\n",
    "The script should be only spoken text, no extra text like [Cut] or [Music].\n",
    "The script should sound passionate, excited, and happy.\n",
    "\n",
    "Script:\n",
    "\"\"\"\n",
    "user_input = prompt.format(input_sentence=\"Spaceships are the future of human travel.\")\n",
    "script = generate_text(user_input, 1000)\n",
    "script"
   ]
  },
  {
   "cell_type": "code",
   "execution_count": 5,
   "metadata": {},
   "outputs": [
    {
     "data": {
      "text/plain": [
       "'\"A high-energy, futuristic electronic dance track with a driving beat and synthesized leads, perfect for a space-themed video that\\'s out of this world!\"'"
      ]
     },
     "execution_count": 5,
     "metadata": {},
     "output_type": "execute_result"
    }
   ],
   "source": [
    "music_prompt = \"\"\"\n",
    "The above is a script for a tiktok video.\n",
    "Please generate a short one sentence description of the music that should be playing in the background of the video.\n",
    "Include genre and mood\n",
    "Example:\n",
    "\"A short upbeat EDM tune with a catchy melody\"\n",
    "\n",
    "Music Description:\n",
    "\"\"\"\n",
    "\n",
    "music_description = generate_text(script + '\\n\\n' + music_prompt, 100)\n",
    "music_description\n",
    "\n"
   ]
  }
 ],
 "metadata": {
  "kernelspec": {
   "display_name": "tiktalk",
   "language": "python",
   "name": "python3"
  },
  "language_info": {
   "codemirror_mode": {
    "name": "ipython",
    "version": 3
   },
   "file_extension": ".py",
   "mimetype": "text/x-python",
   "name": "python",
   "nbconvert_exporter": "python",
   "pygments_lexer": "ipython3",
   "version": "3.10.4"
  }
 },
 "nbformat": 4,
 "nbformat_minor": 2
}
